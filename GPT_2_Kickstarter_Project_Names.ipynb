{
  "nbformat": 4,
  "nbformat_minor": 0,
  "metadata": {
    "accelerator": "GPU",
    "colab": {
      "name": "GPT_2_Kickstarter-Project-Names",
      "provenance": [],
      "collapsed_sections": [],
      "machine_shape": "hm"
    },
    "kernelspec": {
      "display_name": "Python 3",
      "name": "python3"
    },
    "widgets": {
      "application/vnd.jupyter.widget-state+json": {
        "0479f47684e046b7a7cb355b0ab52a56": {
          "model_module": "@jupyter-widgets/controls",
          "model_name": "HBoxModel",
          "state": {
            "_view_name": "HBoxView",
            "_dom_classes": [],
            "_model_name": "HBoxModel",
            "_view_module": "@jupyter-widgets/controls",
            "_model_module_version": "1.5.0",
            "_view_count": null,
            "_view_module_version": "1.5.0",
            "box_style": "",
            "layout": "IPY_MODEL_870a09f9bdef49ce8b140a6238786755",
            "_model_module": "@jupyter-widgets/controls",
            "children": [
              "IPY_MODEL_af6055df9b8b429e8e3d10dc0305d1dc",
              "IPY_MODEL_e4545526cdca4b9790552ec205ede023"
            ]
          }
        },
        "870a09f9bdef49ce8b140a6238786755": {
          "model_module": "@jupyter-widgets/base",
          "model_name": "LayoutModel",
          "state": {
            "_view_name": "LayoutView",
            "grid_template_rows": null,
            "right": null,
            "justify_content": null,
            "_view_module": "@jupyter-widgets/base",
            "overflow": null,
            "_model_module_version": "1.2.0",
            "_view_count": null,
            "flex_flow": "row wrap",
            "width": "100%",
            "min_width": null,
            "border": null,
            "align_items": null,
            "bottom": null,
            "_model_module": "@jupyter-widgets/base",
            "top": null,
            "grid_column": null,
            "overflow_y": null,
            "overflow_x": null,
            "grid_auto_flow": null,
            "grid_area": null,
            "grid_template_columns": null,
            "flex": null,
            "_model_name": "LayoutModel",
            "justify_items": null,
            "grid_row": null,
            "max_height": null,
            "align_content": null,
            "visibility": null,
            "align_self": null,
            "height": null,
            "min_height": null,
            "padding": null,
            "grid_auto_rows": null,
            "grid_gap": null,
            "max_width": null,
            "order": null,
            "_view_module_version": "1.2.0",
            "grid_template_areas": null,
            "object_position": null,
            "object_fit": null,
            "grid_auto_columns": null,
            "margin": null,
            "display": "inline-flex",
            "left": null
          }
        },
        "af6055df9b8b429e8e3d10dc0305d1dc": {
          "model_module": "@jupyter-widgets/controls",
          "model_name": "FloatProgressModel",
          "state": {
            "_view_name": "ProgressView",
            "style": "IPY_MODEL_414c7a38d0bb4d87925909608bd5cc4a",
            "_dom_classes": [],
            "description": "100%",
            "_model_name": "FloatProgressModel",
            "bar_style": "success",
            "max": 377617,
            "_view_module": "@jupyter-widgets/controls",
            "_model_module_version": "1.5.0",
            "value": 377617,
            "_view_count": null,
            "_view_module_version": "1.5.0",
            "orientation": "horizontal",
            "min": 0,
            "description_tooltip": null,
            "_model_module": "@jupyter-widgets/controls",
            "layout": "IPY_MODEL_eaa6f931fbe249e39be2960fb502da36"
          }
        },
        "e4545526cdca4b9790552ec205ede023": {
          "model_module": "@jupyter-widgets/controls",
          "model_name": "HTMLModel",
          "state": {
            "_view_name": "HTMLView",
            "style": "IPY_MODEL_10784c9c2dca436893c6433149b2189f",
            "_dom_classes": [],
            "description": "",
            "_model_name": "HTMLModel",
            "placeholder": "​",
            "_view_module": "@jupyter-widgets/controls",
            "_model_module_version": "1.5.0",
            "value": " 377617/377617 [00:12&lt;00:00, 30419.75it/s]",
            "_view_count": null,
            "_view_module_version": "1.5.0",
            "description_tooltip": null,
            "_model_module": "@jupyter-widgets/controls",
            "layout": "IPY_MODEL_b94af983f06f42e58c543d43339ddbdf"
          }
        },
        "414c7a38d0bb4d87925909608bd5cc4a": {
          "model_module": "@jupyter-widgets/controls",
          "model_name": "ProgressStyleModel",
          "state": {
            "_view_name": "StyleView",
            "_model_name": "ProgressStyleModel",
            "description_width": "initial",
            "_view_module": "@jupyter-widgets/base",
            "_model_module_version": "1.5.0",
            "_view_count": null,
            "_view_module_version": "1.2.0",
            "bar_color": null,
            "_model_module": "@jupyter-widgets/controls"
          }
        },
        "eaa6f931fbe249e39be2960fb502da36": {
          "model_module": "@jupyter-widgets/base",
          "model_name": "LayoutModel",
          "state": {
            "_view_name": "LayoutView",
            "grid_template_rows": null,
            "right": null,
            "justify_content": null,
            "_view_module": "@jupyter-widgets/base",
            "overflow": null,
            "_model_module_version": "1.2.0",
            "_view_count": null,
            "flex_flow": null,
            "width": null,
            "min_width": null,
            "border": null,
            "align_items": null,
            "bottom": null,
            "_model_module": "@jupyter-widgets/base",
            "top": null,
            "grid_column": null,
            "overflow_y": null,
            "overflow_x": null,
            "grid_auto_flow": null,
            "grid_area": null,
            "grid_template_columns": null,
            "flex": "2",
            "_model_name": "LayoutModel",
            "justify_items": null,
            "grid_row": null,
            "max_height": null,
            "align_content": null,
            "visibility": null,
            "align_self": null,
            "height": null,
            "min_height": null,
            "padding": null,
            "grid_auto_rows": null,
            "grid_gap": null,
            "max_width": null,
            "order": null,
            "_view_module_version": "1.2.0",
            "grid_template_areas": null,
            "object_position": null,
            "object_fit": null,
            "grid_auto_columns": null,
            "margin": null,
            "display": null,
            "left": null
          }
        },
        "10784c9c2dca436893c6433149b2189f": {
          "model_module": "@jupyter-widgets/controls",
          "model_name": "DescriptionStyleModel",
          "state": {
            "_view_name": "StyleView",
            "_model_name": "DescriptionStyleModel",
            "description_width": "",
            "_view_module": "@jupyter-widgets/base",
            "_model_module_version": "1.5.0",
            "_view_count": null,
            "_view_module_version": "1.2.0",
            "_model_module": "@jupyter-widgets/controls"
          }
        },
        "b94af983f06f42e58c543d43339ddbdf": {
          "model_module": "@jupyter-widgets/base",
          "model_name": "LayoutModel",
          "state": {
            "_view_name": "LayoutView",
            "grid_template_rows": null,
            "right": null,
            "justify_content": null,
            "_view_module": "@jupyter-widgets/base",
            "overflow": null,
            "_model_module_version": "1.2.0",
            "_view_count": null,
            "flex_flow": null,
            "width": null,
            "min_width": null,
            "border": null,
            "align_items": null,
            "bottom": null,
            "_model_module": "@jupyter-widgets/base",
            "top": null,
            "grid_column": null,
            "overflow_y": null,
            "overflow_x": null,
            "grid_auto_flow": null,
            "grid_area": null,
            "grid_template_columns": null,
            "flex": null,
            "_model_name": "LayoutModel",
            "justify_items": null,
            "grid_row": null,
            "max_height": null,
            "align_content": null,
            "visibility": null,
            "align_self": null,
            "height": null,
            "min_height": null,
            "padding": null,
            "grid_auto_rows": null,
            "grid_gap": null,
            "max_width": null,
            "order": null,
            "_view_module_version": "1.2.0",
            "grid_template_areas": null,
            "object_position": null,
            "object_fit": null,
            "grid_auto_columns": null,
            "margin": null,
            "display": null,
            "left": null
          }
        },
        "e99daf678e654c2182b77e448be409a7": {
          "model_module": "@jupyter-widgets/controls",
          "model_name": "HBoxModel",
          "state": {
            "_view_name": "HBoxView",
            "_dom_classes": [],
            "_model_name": "HBoxModel",
            "_view_module": "@jupyter-widgets/controls",
            "_model_module_version": "1.5.0",
            "_view_count": null,
            "_view_module_version": "1.5.0",
            "box_style": "",
            "layout": "IPY_MODEL_ea365b578d2e40d18ca8b8382ce3410d",
            "_model_module": "@jupyter-widgets/controls",
            "children": [
              "IPY_MODEL_76b8a0b95ed4457b8a0dd603aa8df30b",
              "IPY_MODEL_b70eb92870124230928ad808737b34e1"
            ]
          }
        },
        "ea365b578d2e40d18ca8b8382ce3410d": {
          "model_module": "@jupyter-widgets/base",
          "model_name": "LayoutModel",
          "state": {
            "_view_name": "LayoutView",
            "grid_template_rows": null,
            "right": null,
            "justify_content": null,
            "_view_module": "@jupyter-widgets/base",
            "overflow": null,
            "_model_module_version": "1.2.0",
            "_view_count": null,
            "flex_flow": "row wrap",
            "width": "100%",
            "min_width": null,
            "border": null,
            "align_items": null,
            "bottom": null,
            "_model_module": "@jupyter-widgets/base",
            "top": null,
            "grid_column": null,
            "overflow_y": null,
            "overflow_x": null,
            "grid_auto_flow": null,
            "grid_area": null,
            "grid_template_columns": null,
            "flex": null,
            "_model_name": "LayoutModel",
            "justify_items": null,
            "grid_row": null,
            "max_height": null,
            "align_content": null,
            "visibility": null,
            "align_self": null,
            "height": null,
            "min_height": null,
            "padding": null,
            "grid_auto_rows": null,
            "grid_gap": null,
            "max_width": null,
            "order": null,
            "_view_module_version": "1.2.0",
            "grid_template_areas": null,
            "object_position": null,
            "object_fit": null,
            "grid_auto_columns": null,
            "margin": null,
            "display": "inline-flex",
            "left": null
          }
        },
        "76b8a0b95ed4457b8a0dd603aa8df30b": {
          "model_module": "@jupyter-widgets/controls",
          "model_name": "FloatProgressModel",
          "state": {
            "_view_name": "ProgressView",
            "style": "IPY_MODEL_08732b705a91454ca149b8b4959f145a",
            "_dom_classes": [],
            "description": "Loss: 4.083 — Avg: 4.089 — GPU Mem: 13821 MB: 100%",
            "_model_name": "FloatProgressModel",
            "bar_style": "",
            "max": 10000,
            "_view_module": "@jupyter-widgets/controls",
            "_model_module_version": "1.5.0",
            "value": 10000,
            "_view_count": null,
            "_view_module_version": "1.5.0",
            "orientation": "horizontal",
            "min": 0,
            "description_tooltip": null,
            "_model_module": "@jupyter-widgets/controls",
            "layout": "IPY_MODEL_2e83836d67d042849ca25194b72a6042"
          }
        },
        "b70eb92870124230928ad808737b34e1": {
          "model_module": "@jupyter-widgets/controls",
          "model_name": "HTMLModel",
          "state": {
            "_view_name": "HTMLView",
            "style": "IPY_MODEL_aee59a9ebe2742c08dfad9345384aa0e",
            "_dom_classes": [],
            "description": "",
            "_model_name": "HTMLModel",
            "placeholder": "​",
            "_view_module": "@jupyter-widgets/controls",
            "_model_module_version": "1.5.0",
            "value": " 10000/10000 [36:00&lt;00:00,  4.63it/s]",
            "_view_count": null,
            "_view_module_version": "1.5.0",
            "description_tooltip": null,
            "_model_module": "@jupyter-widgets/controls",
            "layout": "IPY_MODEL_410982c2565f4b68b22022d39b005f96"
          }
        },
        "08732b705a91454ca149b8b4959f145a": {
          "model_module": "@jupyter-widgets/controls",
          "model_name": "ProgressStyleModel",
          "state": {
            "_view_name": "StyleView",
            "_model_name": "ProgressStyleModel",
            "description_width": "initial",
            "_view_module": "@jupyter-widgets/base",
            "_model_module_version": "1.5.0",
            "_view_count": null,
            "_view_module_version": "1.2.0",
            "bar_color": null,
            "_model_module": "@jupyter-widgets/controls"
          }
        },
        "2e83836d67d042849ca25194b72a6042": {
          "model_module": "@jupyter-widgets/base",
          "model_name": "LayoutModel",
          "state": {
            "_view_name": "LayoutView",
            "grid_template_rows": null,
            "right": null,
            "justify_content": null,
            "_view_module": "@jupyter-widgets/base",
            "overflow": null,
            "_model_module_version": "1.2.0",
            "_view_count": null,
            "flex_flow": null,
            "width": null,
            "min_width": null,
            "border": null,
            "align_items": null,
            "bottom": null,
            "_model_module": "@jupyter-widgets/base",
            "top": null,
            "grid_column": null,
            "overflow_y": null,
            "overflow_x": null,
            "grid_auto_flow": null,
            "grid_area": null,
            "grid_template_columns": null,
            "flex": "2",
            "_model_name": "LayoutModel",
            "justify_items": null,
            "grid_row": null,
            "max_height": null,
            "align_content": null,
            "visibility": null,
            "align_self": null,
            "height": null,
            "min_height": null,
            "padding": null,
            "grid_auto_rows": null,
            "grid_gap": null,
            "max_width": null,
            "order": null,
            "_view_module_version": "1.2.0",
            "grid_template_areas": null,
            "object_position": null,
            "object_fit": null,
            "grid_auto_columns": null,
            "margin": null,
            "display": null,
            "left": null
          }
        },
        "aee59a9ebe2742c08dfad9345384aa0e": {
          "model_module": "@jupyter-widgets/controls",
          "model_name": "DescriptionStyleModel",
          "state": {
            "_view_name": "StyleView",
            "_model_name": "DescriptionStyleModel",
            "description_width": "",
            "_view_module": "@jupyter-widgets/base",
            "_model_module_version": "1.5.0",
            "_view_count": null,
            "_view_module_version": "1.2.0",
            "_model_module": "@jupyter-widgets/controls"
          }
        },
        "410982c2565f4b68b22022d39b005f96": {
          "model_module": "@jupyter-widgets/base",
          "model_name": "LayoutModel",
          "state": {
            "_view_name": "LayoutView",
            "grid_template_rows": null,
            "right": null,
            "justify_content": null,
            "_view_module": "@jupyter-widgets/base",
            "overflow": null,
            "_model_module_version": "1.2.0",
            "_view_count": null,
            "flex_flow": null,
            "width": null,
            "min_width": null,
            "border": null,
            "align_items": null,
            "bottom": null,
            "_model_module": "@jupyter-widgets/base",
            "top": null,
            "grid_column": null,
            "overflow_y": null,
            "overflow_x": null,
            "grid_auto_flow": null,
            "grid_area": null,
            "grid_template_columns": null,
            "flex": null,
            "_model_name": "LayoutModel",
            "justify_items": null,
            "grid_row": null,
            "max_height": null,
            "align_content": null,
            "visibility": null,
            "align_self": null,
            "height": null,
            "min_height": null,
            "padding": null,
            "grid_auto_rows": null,
            "grid_gap": null,
            "max_width": null,
            "order": null,
            "_view_module_version": "1.2.0",
            "grid_template_areas": null,
            "object_position": null,
            "object_fit": null,
            "grid_auto_columns": null,
            "margin": null,
            "display": null,
            "left": null
          }
        }
      }
    }
  },
  "cells": [
    {
      "cell_type": "markdown",
      "metadata": {
        "id": "PJX_nTQogJp6"
      },
      "source": [
        "# GPT-2 Kickstarter Project Name Generation\n",
        "\n",
        "*Important Warning:* The dataset we will train GPT-2 on in this notebook has not been filtered for potentially inappropriate content. Therefore, the output of some of the cells in this notebook (namely the last one) may contain harmful language not appropriate for some audiences. If you are sensitive to offensive content, this notebook is unfortunately not a good idea for you to read.\n",
        "\n",
        "## tl;dr\n",
        "1. `Connect` or `Reconnect`\n",
        "2. Upload your Kaggle API key (instructions included later)\n",
        "3. `Runtime` -> `Restart and run all`\n",
        "4. Wait 15-30 minutes\n",
        "5. Laugh at weird computer-generated Kickstarter projects\n",
        "\n",
        "\n",
        "by Brian Lechthaler, \n",
        "*based on [aitextgen](https://github.com/minimaxir/aitextgen)*"
      ]
    },
    {
      "cell_type": "code",
      "metadata": {
        "id": "8dMTiyLIgnAc",
        "outputId": "1a2162cc-9b14-4d70-b1a6-b667270e0ac3",
        "colab": {
          "base_uri": "https://localhost:8080/"
        }
      },
      "source": [
        "from datetime import datetime\n",
        "def mktimestamp():\n",
        "  timestamp = datetime.now()\n",
        "  msg = \"Last Updated: \" + str(timestamp)\n",
        "  return msg\n",
        "print(mktimestamp())"
      ],
      "execution_count": 1,
      "outputs": [
        {
          "output_type": "stream",
          "text": [
            "Last Updated: 2020-11-12 23:05:58.850890\n"
          ],
          "name": "stdout"
        }
      ]
    },
    {
      "cell_type": "markdown",
      "metadata": {
        "id": "X8tXdKjUhard"
      },
      "source": [
        "# Dependencies\n",
        "Download and install all necessary dependencies with `pip`, then `import` what we need."
      ]
    },
    {
      "cell_type": "code",
      "metadata": {
        "id": "NIJGHezJewYk",
        "outputId": "38e93735-aaab-4744-f490-6e5ad1944782",
        "colab": {
          "base_uri": "https://localhost:8080/"
        }
      },
      "source": [
        "# Freeze versions of dependencies for now\n",
        "!pip install -q transformers==2.9.1\n",
        "!pip install -q pytorch-lightning==0.7.6\n",
        "\n",
        "!pip install -q aitextgen\n",
        "\n",
        "import logging\n",
        "logging.basicConfig(\n",
        "        format=\"%(asctime)s — %(levelname)s — %(name)s — %(message)s\",\n",
        "        datefmt=\"%m/%d/%Y %H:%M:%S\",\n",
        "        level=logging.INFO\n",
        "    )\n",
        "\n",
        "from aitextgen import aitextgen\n",
        "from aitextgen.colab import mount_gdrive, copy_file_from_gdrive\n",
        "from aitextgen.TokenDataset import TokenDataset, merge_datasets\n",
        "from aitextgen.utils import build_gpt2_config\n",
        "from aitextgen.tokenizers import train_tokenizer"
      ],
      "execution_count": 2,
      "outputs": [
        {
          "output_type": "stream",
          "text": [
            "11/12/2020 23:06:06 — INFO — transformers.file_utils — PyTorch version 1.7.0+cu101 available.\n",
            "11/12/2020 23:06:08 — INFO — transformers.file_utils — TensorFlow version 2.3.0 available.\n"
          ],
          "name": "stderr"
        }
      ]
    },
    {
      "cell_type": "markdown",
      "metadata": {
        "id": "0w9n5ZkShpY9"
      },
      "source": [
        "# Mount Google Drive\n",
        "Because any data in the VM this notebook is running on will be nuked once the Jupyter kernel stops running, it's helpful to mount your Google Drive to the Colab VM to persist some files that we'll use in this notebook.\n",
        "\n",
        "*Note:* your data will not be shared with anyone who does not have direct access to the VM running this Colab notebook."
      ]
    },
    {
      "cell_type": "code",
      "metadata": {
        "id": "CfDol0OZfAPq"
      },
      "source": [
        "#mount_gdrive()"
      ],
      "execution_count": 3,
      "outputs": []
    },
    {
      "cell_type": "markdown",
      "metadata": {
        "id": "8r7Q-truvtgv"
      },
      "source": [
        "# Download Dataset from Kaggle\n",
        "Downloads the 'kickstarter-projects' dataset contributed by Kaggle user `kemical`\n",
        "\n",
        "1.   Sign into Kaggle in a separate tab\n",
        "2.   Click [this link](https://kaggle.com/me/account) to go to your Kaggle account settings\n",
        "3. Under the `API` section, click/tap `Create new API token`. If this is not the first time you have followed this step, consider clicking `Expire API Token` prior to generating a new token.\n",
        "4. In the Colab file browser, upload the `kaggle.json` API token you just downloaded in step 3.\n",
        "\n"
      ]
    },
    {
      "cell_type": "code",
      "metadata": {
        "id": "Y2x4M0GMrHTQ"
      },
      "source": [
        "!pip install -q kaggle"
      ],
      "execution_count": 4,
      "outputs": []
    },
    {
      "cell_type": "code",
      "metadata": {
        "id": "MEv2I3USrkiY",
        "outputId": "58a06282-71f2-4259-a368-5b7218430215",
        "colab": {
          "base_uri": "https://localhost:8080/"
        }
      },
      "source": [
        "!mkdir -p /root/.kaggle\n",
        "!mv kaggle.json /root/.kaggle/kaggle.json\n",
        "!chmod 600 /root/.kaggle/kaggle.json\n",
        "!rm -rf kickstarter-projects.zip\n",
        "!kaggle datasets download -d kemical/kickstarter-projects\n",
        "column_name = 'name'"
      ],
      "execution_count": 5,
      "outputs": [
        {
          "output_type": "stream",
          "text": [
            "mv: cannot stat 'kaggle.json': No such file or directory\n",
            "Downloading kickstarter-projects.zip to /content\n",
            " 43% 16.0M/36.8M [00:00<00:00, 164MB/s]\n",
            "100% 36.8M/36.8M [00:00<00:00, 180MB/s]\n"
          ],
          "name": "stdout"
        }
      ]
    },
    {
      "cell_type": "code",
      "metadata": {
        "id": "47PdWd5qPdwU",
        "outputId": "5a8431fe-849a-4867-bcdd-0ba6272da381",
        "colab": {
          "base_uri": "https://localhost:8080/"
        }
      },
      "source": [
        "!rm -rf ks-projects-201*.csv\n",
        "!unzip kickstarter-projects.zip\n",
        "dataset_original = 'ks-projects-201801.csv'"
      ],
      "execution_count": 6,
      "outputs": [
        {
          "output_type": "stream",
          "text": [
            "Archive:  kickstarter-projects.zip\n",
            "  inflating: ks-projects-201612.csv  \n",
            "  inflating: ks-projects-201801.csv  \n"
          ],
          "name": "stdout"
        }
      ]
    },
    {
      "cell_type": "markdown",
      "metadata": {
        "id": "zpTYzc74yW20"
      },
      "source": [
        "# Transform Dataset\n",
        "We need to narrow down our multi-column CSV into a single-column CSV in order to train GPT-2 with it. To accomplish this, we load our dataset into a Pandas dataframe, delete the columns we don't need from the dataframe, and then save the resulting dataframe to disk. "
      ]
    },
    {
      "cell_type": "code",
      "metadata": {
        "id": "FSiUS4G4Pn--"
      },
      "source": [
        "import pandas as pd"
      ],
      "execution_count": 7,
      "outputs": []
    },
    {
      "cell_type": "code",
      "metadata": {
        "id": "6QVCB4OHaAiw"
      },
      "source": [
        "def writeln(line, path):\n",
        "  line = str(line) + \"\\n\"\n",
        "  with open(path, 'a') as saveto:\n",
        "    saveto.write(line)"
      ],
      "execution_count": 8,
      "outputs": []
    },
    {
      "cell_type": "code",
      "metadata": {
        "id": "_UteGdkjXafm"
      },
      "source": [
        "def finalsave(colname, output_filename, sample_frac, input_dataset):\n",
        "  !rm -rf /content/dataset.csv\n",
        "  dataingest = pd.read_csv(input_dataset)\n",
        "  print(\"Transforming dataset...\")\n",
        "  dataingest = dataingest.sample(frac=sample_frac)\n",
        "  for index, row in dataingest.iterrows():\n",
        "    line = row[colname]\n",
        "    writeln(line, output_filename)\n",
        "  return dataingest\n",
        "  print(\"Done!\")\n",
        "  "
      ],
      "execution_count": 9,
      "outputs": []
    },
    {
      "cell_type": "code",
      "metadata": {
        "id": "lK9GbJGpVMRS"
      },
      "source": [
        "def cleardf(df):\n",
        "  print('Emptying Pandas DataFrame...')\n",
        "  df = pd.DataFrame()\n",
        "  print('Done!')"
      ],
      "execution_count": 11,
      "outputs": []
    },
    {
      "cell_type": "markdown",
      "metadata": {
        "id": "pXXTbC2iLOM6"
      },
      "source": [
        "*Important Note:* If the next cell crashes your Colab runtime, you probably ran out of memory. Sorry, but if the problem persists you may need to shell out $10 to Google for Colab Pro and change the runtime to GPU High RAM."
      ]
    },
    {
      "cell_type": "code",
      "metadata": {
        "id": "EpDVwLJ_d7eL",
        "outputId": "d9c03136-5f69-43a6-99f8-a9b12a4d01a7",
        "colab": {
          "base_uri": "https://localhost:8080/",
          "height": 864
        }
      },
      "source": [
        "!rm -rf /content/dataset.csv\n",
        "!touch /content/dataset.csv\n",
        "file_name = '/content/dataset.csv'\n",
        "finalsave(column_name, \n",
        "          file_name, \n",
        "          1, \n",
        "          dataset_original)"
      ],
      "execution_count": 12,
      "outputs": [
        {
          "output_type": "stream",
          "text": [
            "Transforming dataset...\n"
          ],
          "name": "stdout"
        },
        {
          "output_type": "execute_result",
          "data": {
            "text/html": [
              "<div>\n",
              "<style scoped>\n",
              "    .dataframe tbody tr th:only-of-type {\n",
              "        vertical-align: middle;\n",
              "    }\n",
              "\n",
              "    .dataframe tbody tr th {\n",
              "        vertical-align: top;\n",
              "    }\n",
              "\n",
              "    .dataframe thead th {\n",
              "        text-align: right;\n",
              "    }\n",
              "</style>\n",
              "<table border=\"1\" class=\"dataframe\">\n",
              "  <thead>\n",
              "    <tr style=\"text-align: right;\">\n",
              "      <th></th>\n",
              "      <th>ID</th>\n",
              "      <th>name</th>\n",
              "      <th>category</th>\n",
              "      <th>main_category</th>\n",
              "      <th>currency</th>\n",
              "      <th>deadline</th>\n",
              "      <th>goal</th>\n",
              "      <th>launched</th>\n",
              "      <th>pledged</th>\n",
              "      <th>state</th>\n",
              "      <th>backers</th>\n",
              "      <th>country</th>\n",
              "      <th>usd pledged</th>\n",
              "      <th>usd_pledged_real</th>\n",
              "      <th>usd_goal_real</th>\n",
              "    </tr>\n",
              "  </thead>\n",
              "  <tbody>\n",
              "    <tr>\n",
              "      <th>337720</th>\n",
              "      <td>790310341</td>\n",
              "      <td>Help JDUB record his next single!</td>\n",
              "      <td>Hip-Hop</td>\n",
              "      <td>Music</td>\n",
              "      <td>USD</td>\n",
              "      <td>2012-08-18</td>\n",
              "      <td>600.0</td>\n",
              "      <td>2012-07-19 00:49:14</td>\n",
              "      <td>750.0</td>\n",
              "      <td>successful</td>\n",
              "      <td>13</td>\n",
              "      <td>US</td>\n",
              "      <td>750.00</td>\n",
              "      <td>750.00</td>\n",
              "      <td>600.00</td>\n",
              "    </tr>\n",
              "    <tr>\n",
              "      <th>188724</th>\n",
              "      <td>1960335270</td>\n",
              "      <td>KaVii Adhesive Ver.2</td>\n",
              "      <td>Product Design</td>\n",
              "      <td>Design</td>\n",
              "      <td>USD</td>\n",
              "      <td>2015-11-30</td>\n",
              "      <td>1000.0</td>\n",
              "      <td>2015-11-01 08:55:17</td>\n",
              "      <td>8618.0</td>\n",
              "      <td>successful</td>\n",
              "      <td>408</td>\n",
              "      <td>US</td>\n",
              "      <td>8618.00</td>\n",
              "      <td>8618.00</td>\n",
              "      <td>1000.00</td>\n",
              "    </tr>\n",
              "    <tr>\n",
              "      <th>188413</th>\n",
              "      <td>1958857885</td>\n",
              "      <td>MAGMODZ - Interchangeable, Magnetic Toy Cars</td>\n",
              "      <td>Product Design</td>\n",
              "      <td>Design</td>\n",
              "      <td>USD</td>\n",
              "      <td>2013-10-06</td>\n",
              "      <td>20000.0</td>\n",
              "      <td>2013-09-03 19:13:03</td>\n",
              "      <td>21891.0</td>\n",
              "      <td>successful</td>\n",
              "      <td>94</td>\n",
              "      <td>US</td>\n",
              "      <td>21891.00</td>\n",
              "      <td>21891.00</td>\n",
              "      <td>20000.00</td>\n",
              "    </tr>\n",
              "    <tr>\n",
              "      <th>22089</th>\n",
              "      <td>1111881466</td>\n",
              "      <td>Eve &amp; Adams Midwife - Pregnancy and Childbirth...</td>\n",
              "      <td>Nonfiction</td>\n",
              "      <td>Publishing</td>\n",
              "      <td>AUD</td>\n",
              "      <td>2015-08-06</td>\n",
              "      <td>8000.0</td>\n",
              "      <td>2015-07-07 09:47:06</td>\n",
              "      <td>20.0</td>\n",
              "      <td>failed</td>\n",
              "      <td>1</td>\n",
              "      <td>AU</td>\n",
              "      <td>14.99</td>\n",
              "      <td>14.78</td>\n",
              "      <td>5910.60</td>\n",
              "    </tr>\n",
              "    <tr>\n",
              "      <th>245307</th>\n",
              "      <td>317649135</td>\n",
              "      <td>Jump, Step, Step</td>\n",
              "      <td>Puzzles</td>\n",
              "      <td>Games</td>\n",
              "      <td>GBP</td>\n",
              "      <td>2016-12-28</td>\n",
              "      <td>5000.0</td>\n",
              "      <td>2016-11-28 14:16:32</td>\n",
              "      <td>33.0</td>\n",
              "      <td>failed</td>\n",
              "      <td>6</td>\n",
              "      <td>GB</td>\n",
              "      <td>0.00</td>\n",
              "      <td>40.63</td>\n",
              "      <td>6155.82</td>\n",
              "    </tr>\n",
              "    <tr>\n",
              "      <th>...</th>\n",
              "      <td>...</td>\n",
              "      <td>...</td>\n",
              "      <td>...</td>\n",
              "      <td>...</td>\n",
              "      <td>...</td>\n",
              "      <td>...</td>\n",
              "      <td>...</td>\n",
              "      <td>...</td>\n",
              "      <td>...</td>\n",
              "      <td>...</td>\n",
              "      <td>...</td>\n",
              "      <td>...</td>\n",
              "      <td>...</td>\n",
              "      <td>...</td>\n",
              "      <td>...</td>\n",
              "    </tr>\n",
              "    <tr>\n",
              "      <th>76927</th>\n",
              "      <td>1391353629</td>\n",
              "      <td>The Capulator -- Leverage for every Beverage</td>\n",
              "      <td>Product Design</td>\n",
              "      <td>Design</td>\n",
              "      <td>USD</td>\n",
              "      <td>2017-10-05</td>\n",
              "      <td>10000.0</td>\n",
              "      <td>2017-09-08 22:03:39</td>\n",
              "      <td>10339.0</td>\n",
              "      <td>successful</td>\n",
              "      <td>169</td>\n",
              "      <td>US</td>\n",
              "      <td>5081.00</td>\n",
              "      <td>10339.00</td>\n",
              "      <td>10000.00</td>\n",
              "    </tr>\n",
              "    <tr>\n",
              "      <th>312923</th>\n",
              "      <td>663906526</td>\n",
              "      <td>Percussion Studio for Underprivileged Students...</td>\n",
              "      <td>Music</td>\n",
              "      <td>Music</td>\n",
              "      <td>USD</td>\n",
              "      <td>2015-04-04</td>\n",
              "      <td>500000.0</td>\n",
              "      <td>2015-03-05 22:07:30</td>\n",
              "      <td>0.0</td>\n",
              "      <td>canceled</td>\n",
              "      <td>0</td>\n",
              "      <td>US</td>\n",
              "      <td>0.00</td>\n",
              "      <td>0.00</td>\n",
              "      <td>500000.00</td>\n",
              "    </tr>\n",
              "    <tr>\n",
              "      <th>287477</th>\n",
              "      <td>532602537</td>\n",
              "      <td>Handcrafted Gourmet Good Food Shop</td>\n",
              "      <td>Restaurants</td>\n",
              "      <td>Food</td>\n",
              "      <td>SGD</td>\n",
              "      <td>2017-10-04</td>\n",
              "      <td>12000.0</td>\n",
              "      <td>2017-09-04 04:24:31</td>\n",
              "      <td>100.0</td>\n",
              "      <td>failed</td>\n",
              "      <td>1</td>\n",
              "      <td>SG</td>\n",
              "      <td>0.00</td>\n",
              "      <td>73.19</td>\n",
              "      <td>8782.20</td>\n",
              "    </tr>\n",
              "    <tr>\n",
              "      <th>336963</th>\n",
              "      <td>786304151</td>\n",
              "      <td>Gathering funds for recording equipment!</td>\n",
              "      <td>Audio</td>\n",
              "      <td>Journalism</td>\n",
              "      <td>USD</td>\n",
              "      <td>2017-06-14</td>\n",
              "      <td>350.0</td>\n",
              "      <td>2017-04-15 02:01:42</td>\n",
              "      <td>30.0</td>\n",
              "      <td>failed</td>\n",
              "      <td>3</td>\n",
              "      <td>US</td>\n",
              "      <td>20.00</td>\n",
              "      <td>30.00</td>\n",
              "      <td>350.00</td>\n",
              "    </tr>\n",
              "    <tr>\n",
              "      <th>102713</th>\n",
              "      <td>1521940644</td>\n",
              "      <td>Heidie Fifield- Debut EP!</td>\n",
              "      <td>Pop</td>\n",
              "      <td>Music</td>\n",
              "      <td>USD</td>\n",
              "      <td>2015-05-01</td>\n",
              "      <td>12087.0</td>\n",
              "      <td>2015-04-01 18:27:59</td>\n",
              "      <td>12227.0</td>\n",
              "      <td>successful</td>\n",
              "      <td>155</td>\n",
              "      <td>US</td>\n",
              "      <td>12227.00</td>\n",
              "      <td>12227.00</td>\n",
              "      <td>12087.00</td>\n",
              "    </tr>\n",
              "  </tbody>\n",
              "</table>\n",
              "<p>378661 rows × 15 columns</p>\n",
              "</div>"
            ],
            "text/plain": [
              "                ID  ... usd_goal_real\n",
              "337720   790310341  ...        600.00\n",
              "188724  1960335270  ...       1000.00\n",
              "188413  1958857885  ...      20000.00\n",
              "22089   1111881466  ...       5910.60\n",
              "245307   317649135  ...       6155.82\n",
              "...            ...  ...           ...\n",
              "76927   1391353629  ...      10000.00\n",
              "312923   663906526  ...     500000.00\n",
              "287477   532602537  ...       8782.20\n",
              "336963   786304151  ...        350.00\n",
              "102713  1521940644  ...      12087.00\n",
              "\n",
              "[378661 rows x 15 columns]"
            ]
          },
          "metadata": {
            "tags": []
          },
          "execution_count": 12
        }
      ]
    },
    {
      "cell_type": "markdown",
      "metadata": {
        "id": "PCP7Yr_VibKI"
      },
      "source": [
        "# Train the Tokenizer\n",
        "This runs on the CPU and will take a while.\n"
      ]
    },
    {
      "cell_type": "code",
      "metadata": {
        "id": "fWVrLbVCohZ7",
        "outputId": "4cff64d9-1c41-4ec3-854f-99baf0eb54cd",
        "colab": {
          "base_uri": "https://localhost:8080/"
        }
      },
      "source": [
        "!rm -rf aitextgen-merges.txt\n",
        "!rm -rf aitextgen-vocab.json\n",
        "!rm -rf trained_model\n",
        "train_tokenizer(file_name)"
      ],
      "execution_count": 13,
      "outputs": [
        {
          "output_type": "stream",
          "text": [
            "11/12/2020 23:07:16 — INFO — aitextgen.tokenizers — Saving aitextgen-vocab.json and aitextgen-merges.txt to the current directory. You will need both files to build the GPT2Tokenizer.\n"
          ],
          "name": "stderr"
        }
      ]
    },
    {
      "cell_type": "markdown",
      "metadata": {
        "id": "tixuti80omSE"
      },
      "source": [
        "# Configure GPT-2"
      ]
    },
    {
      "cell_type": "code",
      "metadata": {
        "id": "hSZ4m8yTopQr",
        "outputId": "ccd68d95-0b5a-4b2b-dfa0-2d37d5d6274d",
        "colab": {
          "base_uri": "https://localhost:8080/"
        }
      },
      "source": [
        "config = build_gpt2_config(vocab_size=50000, \n",
        "                           max_length=20, \n",
        "                           dropout=0.0, \n",
        "                           n_embd=256, \n",
        "                           n_layer=8, \n",
        "                           n_head=8)\n",
        "config"
      ],
      "execution_count": 14,
      "outputs": [
        {
          "output_type": "execute_result",
          "data": {
            "text/plain": [
              "GPT2Config {\n",
              "  \"activation_function\": \"gelu_new\",\n",
              "  \"attn_pdrop\": 0.0,\n",
              "  \"bos_token_id\": 0,\n",
              "  \"embd_pdrop\": 0.0,\n",
              "  \"eos_token_id\": 0,\n",
              "  \"initializer_range\": 0.02,\n",
              "  \"layer_norm_epsilon\": 1e-05,\n",
              "  \"model_type\": \"gpt2\",\n",
              "  \"n_ctx\": 20,\n",
              "  \"n_embd\": 256,\n",
              "  \"n_head\": 8,\n",
              "  \"n_layer\": 8,\n",
              "  \"n_positions\": 20,\n",
              "  \"resid_pdrop\": 0.0,\n",
              "  \"summary_activation\": null,\n",
              "  \"summary_first_dropout\": 0.0,\n",
              "  \"summary_proj_to_labels\": true,\n",
              "  \"summary_type\": \"cls_index\",\n",
              "  \"summary_use_proj\": true,\n",
              "  \"vocab_size\": 50000\n",
              "}"
            ]
          },
          "metadata": {
            "tags": []
          },
          "execution_count": 14
        }
      ]
    },
    {
      "cell_type": "code",
      "metadata": {
        "id": "vIbsF9Owos1b",
        "outputId": "d6f964a2-bf37-4eb4-9fe3-7b43807dc39e",
        "colab": {
          "base_uri": "https://localhost:8080/"
        }
      },
      "source": [
        "ai = aitextgen(config=config,\n",
        "               vocab_file=\"aitextgen-vocab.json\",\n",
        "               merges_file=\"aitextgen-merges.txt\",\n",
        "               to_gpu=True)"
      ],
      "execution_count": 15,
      "outputs": [
        {
          "output_type": "stream",
          "text": [
            "11/12/2020 23:07:16 — INFO — aitextgen — Constructing GPT-2 model from provided config.\n",
            "11/12/2020 23:07:17 — INFO — aitextgen — Using a custom tokenizer.\n"
          ],
          "name": "stderr"
        }
      ]
    },
    {
      "cell_type": "markdown",
      "metadata": {
        "id": "dXVGip1HoxNM"
      },
      "source": [
        "# Finetune GPT-2 to dataset\n",
        "Training should take about an hour on an NVidia Tesla P100 GPU. Text generated from the model should get progressively better over iterations."
      ]
    },
    {
      "cell_type": "code",
      "metadata": {
        "id": "Aamon3x-owP3",
        "outputId": "e12e06ca-aece-43f8-a510-0c5c305172d4",
        "colab": {
          "base_uri": "https://localhost:8080/",
          "height": 1000,
          "referenced_widgets": [
            "0479f47684e046b7a7cb355b0ab52a56",
            "870a09f9bdef49ce8b140a6238786755",
            "af6055df9b8b429e8e3d10dc0305d1dc",
            "e4545526cdca4b9790552ec205ede023",
            "414c7a38d0bb4d87925909608bd5cc4a",
            "eaa6f931fbe249e39be2960fb502da36",
            "10784c9c2dca436893c6433149b2189f",
            "b94af983f06f42e58c543d43339ddbdf",
            "e99daf678e654c2182b77e448be409a7",
            "ea365b578d2e40d18ca8b8382ce3410d",
            "76b8a0b95ed4457b8a0dd603aa8df30b",
            "b70eb92870124230928ad808737b34e1",
            "08732b705a91454ca149b8b4959f145a",
            "2e83836d67d042849ca25194b72a6042",
            "aee59a9ebe2742c08dfad9345384aa0e",
            "410982c2565f4b68b22022d39b005f96"
          ]
        }
      },
      "source": [
        "ai.train(file_name,\n",
        "         line_by_line=True,\n",
        "         num_steps=10000,\n",
        "         generate_every=1000,\n",
        "         save_every=500,\n",
        "         save_gdrive=False,\n",
        "         learning_rate=1e-4,\n",
        "         batch_size=512)"
      ],
      "execution_count": 16,
      "outputs": [
        {
          "output_type": "display_data",
          "data": {
            "application/vnd.jupyter.widget-view+json": {
              "model_id": "0479f47684e046b7a7cb355b0ab52a56",
              "version_minor": 0,
              "version_major": 2
            },
            "text/plain": [
              "HBox(children=(FloatProgress(value=0.0, layout=Layout(flex='2'), max=377617.0), HTML(value='')), layout=Layout…"
            ]
          },
          "metadata": {
            "tags": []
          }
        },
        {
          "output_type": "stream",
          "text": [
            "11/12/2020 23:07:23 — INFO — aitextgen.TokenDataset — Encoding 377,617 rows from /content/dataset.csv.\n"
          ],
          "name": "stderr"
        },
        {
          "output_type": "stream",
          "text": [
            "\n"
          ],
          "name": "stdout"
        },
        {
          "output_type": "stream",
          "text": [
            "GPU available: True, used: True\n",
            "11/12/2020 23:07:36 — INFO — lightning — GPU available: True, used: True\n",
            "No environment variable for node rank defined. Set as 0.\n",
            "11/12/2020 23:07:36 — WARNING — lightning — No environment variable for node rank defined. Set as 0.\n",
            "CUDA_VISIBLE_DEVICES: [0]\n",
            "11/12/2020 23:07:36 — INFO — lightning — CUDA_VISIBLE_DEVICES: [0]\n"
          ],
          "name": "stderr"
        },
        {
          "output_type": "display_data",
          "data": {
            "application/vnd.jupyter.widget-view+json": {
              "model_id": "e99daf678e654c2182b77e448be409a7",
              "version_minor": 0,
              "version_major": 2
            },
            "text/plain": [
              "HBox(children=(FloatProgress(value=0.0, layout=Layout(flex='2'), max=10000.0), HTML(value='')), layout=Layout(…"
            ]
          },
          "metadata": {
            "tags": []
          }
        },
        {
          "output_type": "stream",
          "text": [
            "\u001b[1m500 steps reached: saving model to /trained_model\u001b[0m\n",
            "\u001b[1m1,000 steps reached: saving model to /trained_model\u001b[0m\n",
            "\u001b[1m1,000 steps reached: generating sample texts.\u001b[0m\n",
            "==========\n",
            "WRBWFA RI - \"The World of Gayy\"\n",
            "==========\n",
            "\u001b[1m1,500 steps reached: saving model to /trained_model\u001b[0m\n",
            "\u001b[1m2,000 steps reached: saving model to /trained_model\u001b[0m\n",
            "\u001b[1m2,000 steps reached: generating sample texts.\u001b[0m\n",
            "==========\n",
            "The Wises \"The World of Love\"\n",
            "==========\n",
            "\u001b[1m2,500 steps reached: saving model to /trained_model\u001b[0m\n",
            "\u001b[1m3,000 steps reached: saving model to /trained_model\u001b[0m\n",
            "\u001b[1m3,000 steps reached: generating sample texts.\u001b[0m\n",
            "==========\n",
            "Inlitivity\n",
            "==========\n",
            "\u001b[1m3,500 steps reached: saving model to /trained_model\u001b[0m\n",
            "\u001b[1m4,000 steps reached: saving model to /trained_model\u001b[0m\n",
            "\u001b[1m4,000 steps reached: generating sample texts.\u001b[0m\n",
            "==========\n",
            "Circle\n",
            "==========\n",
            "\u001b[1m4,500 steps reached: saving model to /trained_model\u001b[0m\n",
            "\u001b[1m5,000 steps reached: saving model to /trained_model\u001b[0m\n",
            "\u001b[1m5,000 steps reached: generating sample texts.\u001b[0m\n",
            "==========\n",
            "The Hole\n",
            "==========\n",
            "\u001b[1m5,500 steps reached: saving model to /trained_model\u001b[0m\n",
            "\u001b[1m6,000 steps reached: saving model to /trained_model\u001b[0m\n",
            "\u001b[1m6,000 steps reached: generating sample texts.\u001b[0m\n",
            "==========\n",
            "Pick It\n",
            "==========\n",
            "\u001b[1m6,500 steps reached: saving model to /trained_model\u001b[0m\n",
            "\u001b[1m7,000 steps reached: saving model to /trained_model\u001b[0m\n",
            "\u001b[1m7,000 steps reached: generating sample texts.\u001b[0m\n",
            "==========\n",
            "Masterpiece!\n",
            "==========\n",
            "\u001b[1m7,500 steps reached: saving model to /trained_model\u001b[0m\n",
            "\u001b[1m8,000 steps reached: saving model to /trained_model\u001b[0m\n",
            "\u001b[1m8,000 steps reached: generating sample texts.\u001b[0m\n",
            "==========\n",
            "Future-Mexico Dancing\n",
            "==========\n",
            "\u001b[1m8,500 steps reached: saving model to /trained_model\u001b[0m\n",
            "\u001b[1m9,000 steps reached: saving model to /trained_model\u001b[0m\n",
            "\u001b[1m9,000 steps reached: generating sample texts.\u001b[0m\n",
            "==========\n",
            "KoRoDaGa\n",
            "==========\n",
            "\u001b[1m9,500 steps reached: saving model to /trained_model\u001b[0m\n",
            "\u001b[1m10,000 steps reached: saving model to /trained_model\u001b[0m\n",
            "\u001b[1m10,000 steps reached: generating sample texts.\u001b[0m\n"
          ],
          "name": "stdout"
        },
        {
          "output_type": "stream",
          "text": [
            "11/12/2020 23:43:18 — INFO — aitextgen — Saving trained model pytorch_model.bin to /trained_model\n"
          ],
          "name": "stderr"
        },
        {
          "output_type": "stream",
          "text": [
            "\r==========\n",
            "\rFace The Bot\n",
            "\r==========\n"
          ],
          "name": "stdout"
        }
      ]
    },
    {
      "cell_type": "markdown",
      "metadata": {
        "id": "k0kW0lpZo85M"
      },
      "source": [
        "# Generate a few Samples\n",
        "Now, for the fun part! Before I continue, I want to be really clear: all kickstarter project names you see in this notebook are 100% fake and generated by GPT-2.  Please use this code responsibly (that means never use this to intentionally decieve people, generate clickbait, or do anything else blackhatty)"
      ]
    },
    {
      "cell_type": "code",
      "metadata": {
        "id": "w9YEwLVHpAYO",
        "outputId": "4f8d32ec-43ce-4b07-c62d-22c0c3ba4be4",
        "colab": {
          "base_uri": "https://localhost:8080/"
        }
      },
      "source": [
        "ai.generate(n=15,\n",
        "            batch_size=1024,\n",
        "            temperature=1.0,\n",
        "            top_p=0.999)"
      ],
      "execution_count": 17,
      "outputs": [
        {
          "output_type": "stream",
          "text": [
            "Versa Gira: A Musical\n",
            "==========\n",
            "The Bonds Make Their Second Album to Make Us Grow\n",
            "==========\n",
            "L.I.A.T.S.M\n",
            "==========\n",
            "Gifted: The Card Game For All Ages\n",
            "==========\n",
            "Wordcash | The World's Best Carry Your MacBook Statues\n",
            "==========\n",
            "Corwegian Noms Ramen - Short Film\n",
            "==========\n",
            "The Pure Stillness Festival\n",
            "==========\n",
            "Grafusion!\n",
            "==========\n",
            "Help a pair of shirts at the belitters of Corso!\n",
            "==========\n",
            "Gearing Ridge: IC's Journey (Seafish)\n",
            "==========\n",
            "Letters from the End of One (Canceled)\n",
            "==========\n",
            "Haiku Project\n",
            "==========\n",
            "Honeybee für Swey: Petera & the Fathers Tour\n",
            "==========\n",
            "DJsiKaChris' Debut EP\n",
            "==========\n",
            "Climbing\n"
          ],
          "name": "stdout"
        }
      ]
    },
    {
      "cell_type": "markdown",
      "metadata": {
        "id": "hMs-joQL0PRs"
      },
      "source": [
        "# Credits\n",
        "\n",
        "This project was made possible by the cumulative efforts of the following parties:\n",
        "\n",
        "Brian Lechthaler *author of this notebook*\n",
        "* https://github.com/brianlechthaler\n",
        "* https://twitter.com/brianlechthaler\n",
        "\n",
        "Max Woolf *author of [aitextgen](https://github.com/minimaxir/aitextgen), the training code this notebook is based on.*\n",
        "* https://minimaxir.com/\n",
        "* https://github.com/minimaxir\n",
        "\n",
        "Mickaël Mouillé [author](https://www.kaggle.com/kemical) of [kickstarter-projects](https://www.kaggle.com/kemical/kickstarter-projects) dataset\n",
        "* https://www.biborg.com/\n",
        "* https://github.com/mickaelmouille\n",
        "* https://www.linkedin.com/in/mickael-mouill%C3%A9-38109321/\n",
        "\n",
        "OpenAI *creators of [GPT-2](https://en.wikipedia.org/wiki/OpenAI#GPT-2) model*\n",
        "* https://openai.com \n",
        "* https://openai.com/blog/tags/gpt-2/\n"
      ]
    }
  ]
}